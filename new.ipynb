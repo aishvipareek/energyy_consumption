{
 "cells": [
  {
   "cell_type": "code",
   "execution_count": 1,
   "id": "a973344a-1d64-4ec8-883b-7a69a719b5e9",
   "metadata": {},
   "outputs": [
    {
     "name": "stdout",
     "output_type": "stream",
     "text": [
      "Overwriting app.py\n"
     ]
    }
   ],
   "source": [
    "%%writefile app.py\n",
    "\n",
    "import streamlit as st\n",
    "import pandas as pd\n",
    "\n",
    "# Set title of the app\n",
    "st.title(\"Energy Consumption Data Visualization\")\n",
    "\n",
    "# Load dataset\n",
    "data_path = \"C:/Users/ashmp/OneDrive/Desktop/energy-consumption-2020-1.csv\"  # Full path to the CSV file\n",
    "df = pd.read_csv(data_path)\n",
    "\n",
    "# Display dataset\n",
    "st.write(\"### Energy Consumption Data\", df)\n"
   ]
  },
  {
   "cell_type": "code",
   "execution_count": 2,
   "id": "a25ebd5c-2d40-40ff-a0cd-6e5661bfb04f",
   "metadata": {},
   "outputs": [
    {
     "name": "stdout",
     "output_type": "stream",
     "text": [
      "Overwriting app.py\n"
     ]
    }
   ],
   "source": [
    "%%writefile app.py\n",
    "\n",
    "import streamlit as st\n",
    "import pandas as pd\n",
    "\n",
    "# Set title of the app\n",
    "st.title(\"Energy Consumption Data Visualization\")\n",
    "\n",
    "# Load dataset\n",
    "data_path = \"C:/Users/ashmp/OneDrive/Desktop/energy-consumption-2020-1.csv\"  # Full path to the CSV file\n",
    "df = pd.read_csv(data_path)\n",
    "\n",
    "# Display dataset\n",
    "st.write(\"### Energy Consumption Data\", df)\n"
   ]
  },
  {
   "cell_type": "code",
   "execution_count": 3,
   "id": "bf94f0f1-ae7e-4dca-8fac-515aaa40e8e8",
   "metadata": {},
   "outputs": [
    {
     "name": "stdout",
     "output_type": "stream",
     "text": [
      "C:\\Users\\ashmp\\Downloads\\apareek\n"
     ]
    }
   ],
   "source": [
    "import os\n",
    "print(os.getcwd())\n"
   ]
  },
  {
   "cell_type": "code",
   "execution_count": 7,
   "id": "44267b88-7bad-4f56-963c-b9f5c85c4f63",
   "metadata": {},
   "outputs": [
    {
     "name": "stderr",
     "output_type": "stream",
     "text": [
      "2024-10-16 15:26:06.485 \n",
      "  \u001b[33m\u001b[1mWarning:\u001b[0m to view this Streamlit app on a browser, run it with the following\n",
      "  command:\n",
      "\n",
      "    streamlit run C:\\Users\\ashmp\\anaconda3\\Lib\\site-packages\\ipykernel_launcher.py [ARGUMENTS]\n"
     ]
    }
   ],
   "source": [
    "import streamlit as st\n",
    "import pandas as pd\n",
    "\n",
    "# Set title of the app\n",
    "st.title(\"Energy Consumption Dashboard\")\n",
    "\n",
    "# Load dataset\n",
    "data_path = \"C:\\\\Users\\\\ashmp\\\\OneDrive\\\\Desktop\\\\energy-consumption-2020-1.csv\"  # Ensure your dataset is in the correct path\n",
    "df = pd.read_csv(data_path)\n",
    "\n",
    "# Display dataset\n",
    "st.write(\"### Energy Consumption Data\", df)\n"
   ]
  },
  {
   "cell_type": "code",
   "execution_count": 8,
   "id": "dd1ce2c4-c190-40a7-93b6-56e0c55072c2",
   "metadata": {},
   "outputs": [],
   "source": [
    "selected_column = st.selectbox(\"Select a column to view:\", df.columns)\n"
   ]
  },
  {
   "cell_type": "code",
   "execution_count": 9,
   "id": "3b38e031-bd85-4747-b1a2-8131d29c715f",
   "metadata": {},
   "outputs": [],
   "source": [
    "st.write(f\"### Data for {selected_column}\", df[selected_column])\n"
   ]
  },
  {
   "cell_type": "code",
   "execution_count": 10,
   "id": "1c25adbf-5dc8-48d6-ad81-6514f85c784b",
   "metadata": {},
   "outputs": [
    {
     "data": {
      "text/plain": [
       "DeltaGenerator()"
      ]
     },
     "execution_count": 10,
     "metadata": {},
     "output_type": "execute_result"
    }
   ],
   "source": [
    "import matplotlib.pyplot as plt\n",
    "\n",
    "plt.figure(figsize=(10, 5))\n",
    "df[selected_column].hist()\n",
    "st.pyplot(plt)\n"
   ]
  },
  {
   "cell_type": "code",
   "execution_count": 20,
   "id": "57a4c82f-e35c-4ab3-b28c-49befe79e067",
   "metadata": {},
   "outputs": [],
   "source": [
    "import streamlit as st\n",
    "import pandas as pd\n",
    "\n",
    "# App ka title set karna\n",
    "st.title(\"Energy Consumption Data\")\n",
    "\n",
    "# Dataset load karna\n",
    "data_path = \"C:\\\\Users\\\\ashmp\\\\OneDrive\\\\Desktop\\\\energy-consumption-2020-1.csv\"\n",
    "df = pd.read_csv(data_path)\n",
    "\n",
    "# Dataframe display karna\n",
    "st.dataframe(df)\n",
    "\n",
    "# Available columns dikhana\n",
    "st.write(\"Available columns:\", df.columns)\n",
    "\n",
    "# User input ke liye column select karna\n",
    "selected_column = st.selectbox(\"Select a column to view:\", df.columns)\n",
    "\n",
    "# Selected column ka data display karna\n",
    "st.write(f\"### Data for {selected_column}\", df[selected_column])\n",
    "\n",
    "# Simple plot generate karne ka button\n",
    "if st.button(\"Show Histogram\"):\n",
    "    st.write(\"Selected column ka histogram\")\n",
    "    st.bar_chart(df[selected_column])\n",
    "\n"
   ]
  },
  {
   "cell_type": "code",
   "execution_count": 26,
   "id": "28a0a47b-122a-4927-8458-9dc88a7598cf",
   "metadata": {},
   "outputs": [],
   "source": [
    "import streamlit as st\n",
    "import pandas as pd\n",
    "import matplotlib.pyplot as plt\n",
    "\n",
    "# App ka title set karna\n",
    "st.title(\"Energy Consumption Data visualization\")\n",
    "\n",
    "# Dataset load karna\n",
    "data_path = \"C:\\\\Users\\\\ashmp\\\\OneDrive\\\\Desktop\\\\energy-consumption-2020-1.csv\"\n",
    "df = pd.read_csv(data_path)\n",
    "\n",
    "# Dataframe display karna\n",
    "st.dataframe(df)\n",
    "\n",
    "# Available columns dikhana\n",
    "st.write(\"Available columns:\", df.columns)\n",
    "\n",
    "# User input ke liye column select karna\n",
    "selected_column = st.selectbox(\"Select a column to view:\", df.columns)\n",
    "\n",
    "# Selected column ka data display karna\n",
    "st.write(f\"### Data for {selected_column}\", df[selected_column])\n",
    "\n",
    "# Create two columns for static and dynamic visualizations\n",
    "col1, col2 = st.columns(2)\n",
    "\n",
    "# Column 1 - Static Visualization\n",
    "with col1:\n",
    "    st.header(\"Static Visualization\")\n",
    "    \n",
    "    # Line chart button\n",
    "    if st.button(\"Show Line Chart\"):\n",
    "        st.line_chart(df[selected_column], use_container_width=True)\n",
    "\n",
    "    # Box plot button\n",
    "    if st.button(\"Show Box Plot\"):\n",
    "        st.write(\"Selected column ka box plot\")\n",
    "        plt.figure(figsize=(10, 5))\n",
    "        plt.boxplot(df[selected_column])\n",
    "        plt.title(f\"Box Plot of {selected_column}\")\n",
    "        st.pyplot(plt)\n",
    "\n",
    "# Column 2 - Dynamic Visualization\n",
    "with col2:\n",
    "    st.header(\"Dynamic Visualization\")\n",
    "    \n",
    "    # Bar chart button\n",
    "    if st.button(\"Show Bar Chart\"):\n",
    "        st.write(\"Selected column ka bar chart\")\n",
    "        st.bar_chart(df[selected_column], use_container_width=True)\n",
    "    \n",
    "    # Histogram button\n",
    "    if st.button(\"Show Histogram\"):\n",
    "        st.write(\"Selected column ka histogram\")\n",
    "        plt.figure(figsize=(10, 5))\n",
    "        df[selected_column].hist()\n",
    "        plt.title(f\"Histogram of {selected_column}\")\n",
    "        st.pyplot(plt)\n",
    "\n",
    "    # Area chart button\n",
    "    if st.button(\"Show Area Chart\"):\n",
    "        st.write(\"Selected column ka area chart\")\n",
    "        st.area_chart(df[selected_column], use_container_width=True)\n"
   ]
  },
  {
   "cell_type": "code",
   "execution_count": null,
   "id": "1c896f7e-ee94-4e85-a49c-b7b15dda81bd",
   "metadata": {},
   "outputs": [],
   "source": []
  },
  {
   "cell_type": "code",
   "execution_count": null,
   "id": "fd3e763e-9eb6-41ce-9bca-950083b465cb",
   "metadata": {},
   "outputs": [],
   "source": []
  }
 ],
 "metadata": {
  "kernelspec": {
   "display_name": "Python 3 (ipykernel)",
   "language": "python",
   "name": "python3"
  },
  "language_info": {
   "codemirror_mode": {
    "name": "ipython",
    "version": 3
   },
   "file_extension": ".py",
   "mimetype": "text/x-python",
   "name": "python",
   "nbconvert_exporter": "python",
   "pygments_lexer": "ipython3",
   "version": "3.12.4"
  }
 },
 "nbformat": 4,
 "nbformat_minor": 5
}
