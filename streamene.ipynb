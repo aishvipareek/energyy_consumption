{
 "cells": [
  {
   "cell_type": "code",
   "execution_count": 6,
   "id": "0f95083c-827d-476c-b7eb-f65e3eb85a3b",
   "metadata": {},
   "outputs": [
    {
     "name": "stdout",
     "output_type": "stream",
     "text": [
      "Writing app.py\n"
     ]
    }
   ],
   "source": [
    "%%writefile app.py\n",
    "\n",
    "import streamlit as st\n",
    "import pandas as pd\n",
    "\n",
    "# Set title of the app\n",
    "st.title(\"Energy Consumption Data Visualization\")\n",
    "\n",
    "# Load dataset\n",
    "data_path = \"C:/Users/ashmp/OneDrive/Desktop/energy-consumption-2020-1.csv\"  # Full path to the CSV file\n",
    "df = pd.read_csv(data_path)\n",
    "\n",
    "# Display dataset\n",
    "st.write(\"### Energy Consumption Data\", df)\n"
   ]
  },
  {
   "cell_type": "code",
   "execution_count": 2,
   "id": "7fd72cda-1f56-4240-bc13-29dc73bfc686",
   "metadata": {},
   "outputs": [
    {
     "data": {
      "text/plain": [
       "['In',\n",
       " 'Out',\n",
       " '_',\n",
       " '_1',\n",
       " '__',\n",
       " '___',\n",
       " '__builtin__',\n",
       " '__builtins__',\n",
       " '__doc__',\n",
       " '__loader__',\n",
       " '__name__',\n",
       " '__package__',\n",
       " '__session__',\n",
       " '__spec__',\n",
       " '_dh',\n",
       " '_i',\n",
       " '_i1',\n",
       " '_i2',\n",
       " '_ih',\n",
       " '_ii',\n",
       " '_iii',\n",
       " '_oh',\n",
       " 'exit',\n",
       " 'get_ipython',\n",
       " 'open',\n",
       " 'quit']"
      ]
     },
     "execution_count": 2,
     "metadata": {},
     "output_type": "execute_result"
    }
   ],
   "source": [
    "dir()\n"
   ]
  },
  {
   "cell_type": "code",
   "execution_count": null,
   "id": "422efa7f-1c8b-40ca-b6b1-412942987355",
   "metadata": {},
   "outputs": [],
   "source": []
  }
 ],
 "metadata": {
  "kernelspec": {
   "display_name": "Python 3 (ipykernel)",
   "language": "python",
   "name": "python3"
  },
  "language_info": {
   "codemirror_mode": {
    "name": "ipython",
    "version": 3
   },
   "file_extension": ".py",
   "mimetype": "text/x-python",
   "name": "python",
   "nbconvert_exporter": "python",
   "pygments_lexer": "ipython3",
   "version": "3.12.4"
  }
 },
 "nbformat": 4,
 "nbformat_minor": 5
}
